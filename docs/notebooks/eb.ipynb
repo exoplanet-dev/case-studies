{
 "cells": [
  {
   "cell_type": "code",
   "execution_count": null,
   "metadata": {},
   "outputs": [],
   "source": [
    "%matplotlib inline"
   ]
  },
  {
   "cell_type": "code",
   "execution_count": null,
   "metadata": {},
   "outputs": [],
   "source": [
    "%run notebook_setup"
   ]
  },
  {
   "cell_type": "markdown",
   "metadata": {},
   "source": [
    "# Fitting a detached eclipsing binary"
   ]
  },
  {
   "cell_type": "raw",
   "metadata": {},
   "source": [
    ".. note:: You will need exoplanet version 0.3.1 or later to run this tutorial."
   ]
  },
  {
   "cell_type": "markdown",
   "metadata": {},
   "source": [
    "In this case study, we'll go through the steps required to fit the light curve and radial velocity measurements for the detached eclipsing binary system HD 23642.\n",
    "This is a bright system that has been fit by many authors ([1](https://arxiv.org/abs/astro-ph/0403444), [2](https://arxiv.org/abs/astro-ph/0409507), [3](https://ui.adsabs.harvard.edu/abs/2007A%26A...463..579G/abstract), [4](https://arxiv.org/abs/1602.01901), and [5](https://arxiv.org/abs/1603.08484) to name a few) so this is a good benchmark for our demonstration.\n",
    "\n",
    "The light curve that we'll use is from K2 and we'll use the same radial velocity measurements as [David+ (2016)](https://arxiv.org/abs/1602.01901) compiled from [here](https://arxiv.org/abs/astro-ph/0403444) and [here](https://ui.adsabs.harvard.edu/abs/2007A%26A...463..579G/abstract).\n",
    "We'll use a somewhat simplified model for the eclipses that treats the stars as spherical and ignores the phase curve (we'll model it using a Gaussian process instead of a more physically motivated model).\n",
    "But, as you'll see, these simplifying assumptions are sufficient for this case of a detached and well behaved system.\n",
    "Unlike some previous studies, we will fit an eccentric orbit instead of fixing the eccentricity to zero.\n",
    "This probably isn't really necessary here, but it's useful to demonstrate how you would fit a more eccentric system.\n",
    "Finally, we model the phase curve and other triends in both the light curve and radial velocities using Gaussian processes.\n",
    "This will account for unmodeled stellar variability and residual systematics, drifts, and other effects left over from the data reduction procedure.\n",
    "\n",
    "## Data access\n",
    "\n",
    "First, let's define some values from the literature that will be useful below.\n",
    "Here we're taking the period and eclipse time from [David+ (2016)](https://arxiv.org/abs/1602.01901) as initial guesses for these parameters in our fit.\n",
    "We'll also include the same prior on the flux ratio of the two stars that was computed for the Kepler bandpass by [David+ (2016)](https://arxiv.org/abs/1602.01901)."
   ]
  },
  {
   "cell_type": "code",
   "execution_count": null,
   "metadata": {},
   "outputs": [],
   "source": [
    "lit_period = 2.46113408\n",
    "lit_t0 = 119.522070 + 2457000 - 2454833\n",
    "\n",
    "# Prior on the flux ratio for Kepler\n",
    "lit_flux_ratio = (0.354, 0.035)"
   ]
  },
  {
   "cell_type": "markdown",
   "metadata": {},
   "source": [
    "Then we'll download the Kepler data.\n",
    "In this case, the pipeline aperture photometry isn't very good (because this star is so bright!) so we'll just download the target pixel file and co-add all the pixels."
   ]
  },
  {
   "cell_type": "code",
   "execution_count": null,
   "metadata": {},
   "outputs": [],
   "source": [
    "import numpy as np\n",
    "import matplotlib.pyplot as plt\n",
    "import lightkurve as lk\n",
    "\n",
    "tpf = lk.search_targetpixelfile(\"EPIC 211082420\").download()\n",
    "lc = tpf.to_lightcurve(aperture_mask=\"all\")\n",
    "lc = lc.remove_nans().normalize()\n",
    "\n",
    "hdr = tpf.hdu[1].header\n",
    "texp = hdr[\"FRAMETIM\"] * hdr[\"NUM_FRM\"]\n",
    "texp /= 60.0 * 60.0 * 24.0\n",
    "\n",
    "x = np.ascontiguousarray(lc.time, dtype=np.float64)\n",
    "y = np.ascontiguousarray(lc.flux, dtype=np.float64)\n",
    "mu = np.median(y)\n",
    "y = (y / mu - 1) * 1e3\n",
    "\n",
    "plt.plot((x - lit_t0 + 0.5 * lit_period) % lit_period - 0.5 * lit_period, y, \".k\")\n",
    "plt.xlim(-0.5 * lit_period, 0.5 * lit_period)\n",
    "plt.xlabel(\"time since primary eclipse [days]\")\n",
    "_ = plt.ylabel(\"relative flux [ppt]\")"
   ]
  },
  {
   "cell_type": "markdown",
   "metadata": {},
   "source": [
    "Then we'll enter the radial velocity data.\n",
    "I couldn't find these data online anywhere so I manually transcribed the data from the referenced papers (typos are my own!)."
   ]
  },
  {
   "cell_type": "code",
   "execution_count": null,
   "metadata": {},
   "outputs": [],
   "source": [
    "ref1 = 2453000\n",
    "ref2 = 2400000\n",
    "rvs = np.array(\n",
    "    [\n",
    "        # https://arxiv.org/abs/astro-ph/0403444\n",
    "        (39.41273 + ref1, -85.0, 134.5),\n",
    "        (39.45356 + ref1, -88.0, 139.0),\n",
    "        (39.50548 + ref1, -91.0, 143.0),\n",
    "        (43.25049 + ref1, 105.5, -136.0),\n",
    "        (46.25318 + ref1, 29.5, -24.5),\n",
    "        # https://ui.adsabs.harvard.edu/abs/2007A%26A...463..579G/abstract\n",
    "        (52629.6190 + ref2, 88.8, -127.0),\n",
    "        (52630.6098 + ref2, -48.0, 68.0),\n",
    "        (52631.6089 + ref2, -9.5, 13.1),\n",
    "        (52632.6024 + ref2, 63.6, -90.9),\n",
    "        (52633.6162 + ref2, -94.5, 135.0),\n",
    "        (52636.6055 + ref2, 10.3, -13.9),\n",
    "        (52983.6570 + ref2, 18.1, -25.1),\n",
    "        (52987.6453 + ref2, -80.6, 114.5),\n",
    "        (52993.6322 + ref2, 49.0, -70.7),\n",
    "        (53224.9338 + ref2, 39.0, -55.7),\n",
    "        (53229.9384 + ref2, 57.2, -82.0),\n",
    "    ]\n",
    ")\n",
    "rvs[:, 0] -= 2454833\n",
    "rvs = rvs[np.argsort(rvs[:, 0])]\n",
    "\n",
    "x_rv = np.ascontiguousarray(rvs[:, 0], dtype=np.float64)\n",
    "y1_rv = np.ascontiguousarray(rvs[:, 1], dtype=np.float64)\n",
    "y2_rv = np.ascontiguousarray(rvs[:, 2], dtype=np.float64)\n",
    "\n",
    "fold = (rvs[:, 0] - lit_t0 + 0.5 * lit_period) % lit_period - 0.5 * lit_period\n",
    "plt.plot(fold, rvs[:, 1], \".\", label=\"primary\")\n",
    "plt.plot(fold, rvs[:, 2], \".\", label=\"secondary\")\n",
    "plt.legend(fontsize=10)\n",
    "plt.xlim(-0.5 * lit_period, 0.5 * lit_period)\n",
    "plt.ylabel(\"radial velocity [km / s]\")\n",
    "_ = plt.xlabel(\"time since primary eclipse [days]\")"
   ]
  },
  {
   "cell_type": "markdown",
   "metadata": {},
   "source": [
    "## Probabilistic model\n",
    "\n",
    "Then we define the probabilistic model using PyMC3 and exoplanet.\n",
    "This is similar to the other tutorials and case studies, but here we're using a :class:`exoplanet.SecondaryEclipseLightCurve` to generate the model light curve and we're modeling the radial velocity trends using a Gaussian process instead of a polynomial.\n",
    "Otherwise, things should look pretty familiar!\n",
    "\n",
    "After defining the model, we iteratively clip outliers in the light curve using sigma clipping and then estimate the maximum a posteriori parameters."
   ]
  },
  {
   "cell_type": "code",
   "execution_count": null,
   "metadata": {},
   "outputs": [],
   "source": [
    "import pymc3 as pm\n",
    "import theano.tensor as tt\n",
    "\n",
    "import exoplanet as xo\n",
    "\n",
    "\n",
    "def build_model(mask):\n",
    "\n",
    "    with pm.Model() as model:\n",
    "\n",
    "        # Systemic parameters\n",
    "        mean_lc = pm.Normal(\"mean_lc\", mu=0.0, sd=5.0)\n",
    "        mean_rv = pm.Normal(\"mean_rv\", mu=0.0, sd=50.0)\n",
    "        u1 = xo.QuadLimbDark(\"u1\")\n",
    "        u2 = xo.QuadLimbDark(\"u2\")\n",
    "\n",
    "        # Parameters describing the primary\n",
    "        M1 = pm.Lognormal(\"M1\", mu=0.0, sigma=10.0)\n",
    "        R1 = pm.Lognormal(\"R1\", mu=0.0, sigma=10.0)\n",
    "\n",
    "        # Secondary ratios\n",
    "        k = pm.Lognormal(\"k\", mu=0.0, sigma=10.0)  # radius ratio\n",
    "        q = pm.Lognormal(\"q\", mu=0.0, sigma=10.0)  # mass ratio\n",
    "        s = pm.Lognormal(\"s\", mu=np.log(0.5), sigma=10.0)  # surface brightness ratio\n",
    "\n",
    "        # Prior on flux ratio\n",
    "        pm.Normal(\n",
    "            \"flux_prior\", mu=lit_flux_ratio[0], sigma=lit_flux_ratio[1], observed=k * s\n",
    "        )\n",
    "\n",
    "        # Parameters describing the orbit\n",
    "        b = xo.ImpactParameter(\"b\", ror=k, testval=1.5)\n",
    "        period = pm.Lognormal(\"period\", mu=np.log(lit_period), sigma=1.0)\n",
    "        t0 = pm.Normal(\"t0\", mu=lit_t0, sigma=1.0)\n",
    "\n",
    "        # Parameters describing the eccentricity: ecs = [e * cos(w), e * sin(w)]\n",
    "        ecs = xo.UnitDisk(\"ecs\", testval=np.array([1e-5, 0.0]))\n",
    "        ecc = pm.Deterministic(\"ecc\", tt.sqrt(tt.sum(ecs ** 2)))\n",
    "        omega = pm.Deterministic(\"omega\", tt.arctan2(ecs[1], ecs[0]))\n",
    "\n",
    "        # Build the orbit\n",
    "        R2 = pm.Deterministic(\"R2\", k * R1)\n",
    "        M2 = pm.Deterministic(\"M2\", q * M1)\n",
    "        orbit = xo.orbits.KeplerianOrbit(\n",
    "            period=period,\n",
    "            t0=t0,\n",
    "            ecc=ecc,\n",
    "            omega=omega,\n",
    "            b=b,\n",
    "            r_star=R1,\n",
    "            m_star=M1,\n",
    "            m_planet=M2,\n",
    "        )\n",
    "\n",
    "        # Track some other orbital elements\n",
    "        pm.Deterministic(\"incl\", orbit.incl)\n",
    "        pm.Deterministic(\"a\", orbit.a)\n",
    "\n",
    "        # Noise model for the light curve\n",
    "        sigma_lc = pm.InverseGamma(\n",
    "            \"sigma_lc\", testval=1.0, **xo.estimate_inverse_gamma_parameters(0.1, 2.0)\n",
    "        )\n",
    "        S_tot_lc = pm.InverseGamma(\n",
    "            \"S_tot_lc\", testval=2.5, **xo.estimate_inverse_gamma_parameters(1.0, 5.0)\n",
    "        )\n",
    "        ell_lc = pm.InverseGamma(\n",
    "            \"ell_lc\", testval=2.0, **xo.estimate_inverse_gamma_parameters(1.0, 5.0)\n",
    "        )\n",
    "        kernel_lc = xo.gp.terms.SHOTerm(\n",
    "            S_tot=S_tot_lc, w0=2 * np.pi / ell_lc, Q=1.0 / 3\n",
    "        )\n",
    "\n",
    "        # Noise model for the radial velocities\n",
    "        sigma_rv1 = pm.InverseGamma(\n",
    "            \"sigma_rv1\", testval=1.0, **xo.estimate_inverse_gamma_parameters(0.5, 5.0)\n",
    "        )\n",
    "        sigma_rv2 = pm.InverseGamma(\n",
    "            \"sigma_rv2\", testval=1.0, **xo.estimate_inverse_gamma_parameters(0.5, 5.0)\n",
    "        )\n",
    "        S_tot_rv = pm.InverseGamma(\n",
    "            \"S_tot_rv\", testval=2.5, **xo.estimate_inverse_gamma_parameters(1.0, 5.0)\n",
    "        )\n",
    "        ell_rv = pm.InverseGamma(\n",
    "            \"ell_rv\", testval=2.0, **xo.estimate_inverse_gamma_parameters(1.0, 5.0)\n",
    "        )\n",
    "        kernel_rv = xo.gp.terms.SHOTerm(\n",
    "            S_tot=S_tot_rv, w0=2 * np.pi / ell_rv, Q=1.0 / 3\n",
    "        )\n",
    "\n",
    "        # Set up the light curve model\n",
    "        lc = xo.SecondaryEclipseLightCurve(u1, u2, s)\n",
    "\n",
    "        def model_lc(t):\n",
    "            return (\n",
    "                mean_lc\n",
    "                + 1e3 * lc.get_light_curve(orbit=orbit, r=R2, t=t, texp=texp)[:, 0]\n",
    "            )\n",
    "\n",
    "        # Condition the light curve model on the data\n",
    "        gp_lc = xo.gp.GP(\n",
    "            kernel_lc, x[mask], tt.zeros(mask.sum()) ** 2 + sigma_lc ** 2, mean=model_lc\n",
    "        )\n",
    "        gp_lc.marginal(\"obs_lc\", observed=y[mask])\n",
    "\n",
    "        # Set up the radial velocity model\n",
    "        def model_rv1(t):\n",
    "            return mean_rv + 1e-3 * orbit.get_radial_velocity(t)\n",
    "\n",
    "        def model_rv2(t):\n",
    "            return mean_rv - 1e-3 * orbit.get_radial_velocity(t) / q\n",
    "\n",
    "        # Condition the radial velocity model on the data\n",
    "        gp_rv1 = xo.gp.GP(\n",
    "            kernel_rv, x_rv, tt.zeros(len(x_rv)) ** 2 + sigma_rv1 ** 2, mean=model_rv1\n",
    "        )\n",
    "        gp_rv1.marginal(\"obs_rv1\", observed=y1_rv)\n",
    "        gp_rv2 = xo.gp.GP(\n",
    "            kernel_rv, x_rv, tt.zeros(len(x_rv)) ** 2 + sigma_rv2 ** 2, mean=model_rv2\n",
    "        )\n",
    "        gp_rv2.marginal(\"obs_rv2\", observed=y2_rv)\n",
    "\n",
    "        # Optimize the logp\n",
    "        map_soln = model.test_point\n",
    "\n",
    "        # First the RV parameters\n",
    "        map_soln = xo.optimize(map_soln, [mean_rv, q])\n",
    "        map_soln = xo.optimize(\n",
    "            map_soln, [mean_rv, sigma_rv1, sigma_rv2, S_tot_rv, ell_rv]\n",
    "        )\n",
    "\n",
    "        # Then the LC parameters\n",
    "        map_soln = xo.optimize(map_soln, [mean_lc, R1, k, s, b])\n",
    "        map_soln = xo.optimize(map_soln, [mean_lc, R1, k, s, b, u1, u2])\n",
    "        map_soln = xo.optimize(map_soln, [mean_lc, sigma_lc, S_tot_lc, ell_lc])\n",
    "        map_soln = xo.optimize(map_soln, [t0, period])\n",
    "\n",
    "        # Then all the parameters together\n",
    "        map_soln = xo.optimize(map_soln)\n",
    "\n",
    "        model.gp_lc = gp_lc\n",
    "        model.model_lc = model_lc\n",
    "        model.gp_rv1 = gp_rv1\n",
    "        model.model_rv1 = model_rv1\n",
    "        model.gp_rv2 = gp_rv2\n",
    "        model.model_rv2 = model_rv2\n",
    "\n",
    "        model.x = x[mask]\n",
    "        model.y = y[mask]\n",
    "\n",
    "    return model, map_soln\n",
    "\n",
    "\n",
    "def sigma_clip():\n",
    "    mask = np.ones(len(x), dtype=bool)\n",
    "    num = len(mask)\n",
    "\n",
    "    for i in range(10):\n",
    "        model, map_soln = build_model(mask)\n",
    "\n",
    "        with model:\n",
    "            mdl = xo.eval_in_model(\n",
    "                model.model_lc(x[mask]) + model.gp_lc.predict(), map_soln\n",
    "            )\n",
    "\n",
    "        resid = y[mask] - mdl\n",
    "        sigma = np.sqrt(np.median((resid - np.median(resid)) ** 2))\n",
    "        mask[mask] = np.abs(resid - np.median(resid)) < 7 * sigma\n",
    "        print(\"Sigma clipped {0} light curve points\".format(num - mask.sum()))\n",
    "        if num == mask.sum():\n",
    "            break\n",
    "        num = mask.sum()\n",
    "\n",
    "    return model, map_soln\n",
    "\n",
    "\n",
    "model, map_soln = sigma_clip()"
   ]
  },
  {
   "cell_type": "markdown",
   "metadata": {},
   "source": [
    "At these best fit parameters, let's make some plots of the model predictions compared to the observations to make sure that things look reasonable.\n",
    "First the phase-folded radial velocities:"
   ]
  },
  {
   "cell_type": "code",
   "execution_count": null,
   "metadata": {},
   "outputs": [],
   "source": [
    "period = map_soln[\"period\"]\n",
    "t0 = map_soln[\"t0\"]\n",
    "mean = map_soln[\"mean_rv\"]\n",
    "\n",
    "x_fold = (x_rv - t0 + 0.5 * period) % period - 0.5 * period\n",
    "plt.plot(fold, y1_rv - mean, \".\", label=\"primary\")\n",
    "plt.plot(fold, y2_rv - mean, \".\", label=\"secondary\")\n",
    "\n",
    "x_phase = np.linspace(-0.5 * period, 0.5 * period, 500)\n",
    "with model:\n",
    "    y1_mod, y2_mod = xo.eval_in_model(\n",
    "        [model.model_rv1(x_phase + t0), model.model_rv2(x_phase + t0)], map_soln\n",
    "    )\n",
    "plt.plot(x_phase, y1_mod - mean, \"C0\")\n",
    "plt.plot(x_phase, y2_mod - mean, \"C1\")\n",
    "\n",
    "plt.legend(fontsize=10)\n",
    "plt.xlim(-0.5 * period, 0.5 * period)\n",
    "plt.ylabel(\"radial velocity [km / s]\")\n",
    "plt.xlabel(\"time since primary eclipse [days]\")\n",
    "_ = plt.title(\"HD 23642; map model\", fontsize=14)"
   ]
  },
  {
   "cell_type": "markdown",
   "metadata": {},
   "source": [
    "And then the light curve.\n",
    "In the top panel, we show the Gaussian process model for the phase curve.\n",
    "It's clear that there's a lot of information there that we could take advantage of, but that's a topic for another day.\n",
    "In the bottom panel, we're plotting the phase folded light curve and we can see the ridiculous signal to noise that we're getting on the eclipses."
   ]
  },
  {
   "cell_type": "code",
   "execution_count": null,
   "metadata": {},
   "outputs": [],
   "source": [
    "with model:\n",
    "    gp_pred = xo.eval_in_model(model.gp_lc.predict(), map_soln) + map_soln[\"mean_lc\"]\n",
    "    lc = xo.eval_in_model(model.model_lc(model.x), map_soln) - map_soln[\"mean_lc\"]\n",
    "\n",
    "fig, (ax1, ax2) = plt.subplots(2, sharex=True, figsize=(12, 7))\n",
    "\n",
    "ax1.plot(model.x, model.y, \"k.\", alpha=0.2)\n",
    "ax1.plot(model.x, gp_pred, color=\"C1\", lw=1)\n",
    "\n",
    "ax2.plot(model.x, model.y - gp_pred, \"k.\", alpha=0.2)\n",
    "ax2.plot(model.x, lc, color=\"C2\", lw=1)\n",
    "ax2.set_xlim(model.x.min(), model.x.max())\n",
    "\n",
    "ax1.set_ylabel(\"raw flux [ppt]\")\n",
    "ax2.set_ylabel(\"de-trended flux [ppt]\")\n",
    "ax2.set_xlabel(\"time [KBJD]\")\n",
    "ax1.set_title(\"HD 23642; map model\", fontsize=14)\n",
    "\n",
    "fig.subplots_adjust(hspace=0.05)\n",
    "\n",
    "fig, ax1 = plt.subplots(1, figsize=(12, 3.5))\n",
    "\n",
    "x_fold = (model.x - map_soln[\"t0\"]) % map_soln[\"period\"] / map_soln[\"period\"]\n",
    "inds = np.argsort(x_fold)\n",
    "\n",
    "ax1.plot(x_fold[inds], model.y[inds] - gp_pred[inds], \"k.\", alpha=0.2)\n",
    "ax1.plot(x_fold[inds] - 1, model.y[inds] - gp_pred[inds], \"k.\", alpha=0.2)\n",
    "ax2.plot(x_fold[inds], model.y[inds] - gp_pred[inds], \"k.\", alpha=0.2, label=\"data!\")\n",
    "ax2.plot(x_fold[inds] - 1, model.y[inds] - gp_pred, \"k.\", alpha=0.2)\n",
    "\n",
    "yval = model.y[inds] - gp_pred\n",
    "bins = np.linspace(0, 1, 75)\n",
    "num, _ = np.histogram(x_fold[inds], bins, weights=yval)\n",
    "denom, _ = np.histogram(x_fold[inds], bins)\n",
    "ax2.plot(0.5 * (bins[:-1] + bins[1:]) - 1, num / denom, \".w\")\n",
    "\n",
    "args = dict(lw=1)\n",
    "\n",
    "ax1.plot(x_fold[inds], lc[inds], \"C2\", **args)\n",
    "ax1.plot(x_fold[inds] - 1, lc[inds], \"C2\", **args)\n",
    "\n",
    "ax1.set_xlim(-1, 1)\n",
    "ax1.set_ylabel(\"de-trended flux [ppt]\")\n",
    "ax1.set_xlabel(\"phase\")\n",
    "_ = ax1.set_title(\"HD 23642; map model\", fontsize=14)"
   ]
  },
  {
   "cell_type": "markdown",
   "metadata": {},
   "source": [
    "## Sampling\n",
    "\n",
    "Finally we can run the MCMC:"
   ]
  },
  {
   "cell_type": "code",
   "execution_count": null,
   "metadata": {},
   "outputs": [],
   "source": [
    "np.random.seed(23642)\n",
    "with model:\n",
    "    trace = xo.sample(\n",
    "        tune=3500, draws=3000, start=map_soln, chains=4, target_accept=0.95\n",
    "    )"
   ]
  },
  {
   "cell_type": "markdown",
   "metadata": {},
   "source": [
    "As usual, we can check the convergence diagnostics for some of the key parameters."
   ]
  },
  {
   "cell_type": "code",
   "execution_count": null,
   "metadata": {},
   "outputs": [],
   "source": [
    "pm.summary(trace, var_names=[\"M1\", \"M2\", \"R1\", \"R2\", \"ecs\", \"incl\", \"s\"])"
   ]
  },
  {
   "cell_type": "markdown",
   "metadata": {},
   "source": [
    "## Results\n",
    "\n",
    "It can be useful to take a look at some diagnostic corner plots to see how the sampling went.\n",
    "First, let's look at some observables:"
   ]
  },
  {
   "cell_type": "code",
   "execution_count": null,
   "metadata": {},
   "outputs": [],
   "source": [
    "import corner\n",
    "\n",
    "samples = pm.trace_to_dataframe(trace, varnames=[\"k\", \"q\", \"ecs\"])\n",
    "_ = corner.corner(\n",
    "    samples,\n",
    "    labels=[\"$k = R_2 / R_1$\", \"$q = M_2 / M_1$\", \"$e\\,\\cos\\omega$\", \"$e\\,\\sin\\omega$\"],\n",
    ")"
   ]
  },
  {
   "cell_type": "markdown",
   "metadata": {},
   "source": [
    "And then we can look at the physical properties of the stars in the system.\n",
    "In this figure, we're comparing to the results from [David+ (2016)](https://arxiv.org/abs/1602.01901).\n",
    "We find that the radius of the primary is marginally inconsistent with the [David+ (2016)](https://arxiv.org/abs/1602.01901) measurement, but more consistent with other estimates from the literature (that are overplotted in different colors)."
   ]
  },
  {
   "cell_type": "code",
   "execution_count": null,
   "metadata": {},
   "outputs": [],
   "source": [
    "samples = pm.trace_to_dataframe(trace, varnames=[\"R1\", \"R2\", \"M1\", \"M2\"])\n",
    "fig = corner.corner(samples, truths=[1.727, 1.503, 2.203, 1.5488])\n",
    "\n",
    "for ax in np.reshape(fig.axes, (4, 4))[:, 0]:\n",
    "    ax.axvline(1.727, color=\"C0\", label=\"David+ (2016)\")\n",
    "    ax.axvline(1.890, color=\"C1\", label=\"Groenewegen+ (2007)\")\n",
    "    ax.axvline(1.831, color=\"C2\", label=\"Southworth+ (2005)\")\n",
    "    ax.axvline(1.81, color=\"C3\", label=\"Munari+ (2004)\")\n",
    "\n",
    "_ = fig.axes[0].legend(fontsize=10, loc=\"center left\", bbox_to_anchor=(1.1, 0.5))"
   ]
  },
  {
   "cell_type": "markdown",
   "metadata": {},
   "source": [
    "## Citations\n",
    "\n",
    "As described in the :ref:`citation` tutorial, we can use :func:`exoplanet.citations.get_citations_for_model` to construct an acknowledgement and BibTeX listing that includes the relevant citations for this model."
   ]
  },
  {
   "cell_type": "code",
   "execution_count": null,
   "metadata": {},
   "outputs": [],
   "source": [
    "with model:\n",
    "    txt, bib = xo.citations.get_citations_for_model()\n",
    "print(txt)"
   ]
  },
  {
   "cell_type": "code",
   "execution_count": null,
   "metadata": {},
   "outputs": [],
   "source": [
    "print(\"\\n\".join(bib.splitlines()[:10]) + \"\\n...\")"
   ]
  },
  {
   "cell_type": "code",
   "execution_count": null,
   "metadata": {},
   "outputs": [],
   "source": []
  }
 ],
 "metadata": {
  "kernelspec": {
   "display_name": "Python 3",
   "language": "python",
   "name": "python3"
  },
  "language_info": {
   "codemirror_mode": {
    "name": "ipython",
    "version": 3
   },
   "file_extension": ".py",
   "mimetype": "text/x-python",
   "name": "python",
   "nbconvert_exporter": "python",
   "pygments_lexer": "ipython3",
   "version": "3.7.7"
  }
 },
 "nbformat": 4,
 "nbformat_minor": 4
}
