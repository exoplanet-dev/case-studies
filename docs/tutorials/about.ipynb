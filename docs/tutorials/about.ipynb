{
 "cells": [
  {
   "cell_type": "markdown",
   "id": "fa40cdac",
   "metadata": {},
   "source": [
    "(about)=\n",
    "\n",
    "# About these Case Studies\n",
    "\n",
    "The \"case studies\" on the following pages are examples of real world use of the [exoplanet](https://docs.exoplanet.codes) library.\n",
    "They are implemented as Jupyter notebooks, and you can download the notebook or launch it on [Binder](https://mybinder.org) using the menus at the top right of each page.\n",
    "The case studies are automatically executed with using GitHub Actions for each new release of `exoplanet`.\n",
    "\n",
    "At the top of each case study, you’ll find a cell like the following that indicates the version of exoplanet that was used to generate the tutorial:"
   ]
  },
  {
   "cell_type": "code",
   "execution_count": null,
   "id": "cf8a8ce9",
   "metadata": {},
   "outputs": [],
   "source": [
    "import exoplanet\n",
    "\n",
    "exoplanet.utils.docs_setup()\n",
    "print(f\"exoplanet.__version__ = '{exoplanet.__version__}'\")"
   ]
  },
  {
   "cell_type": "code",
   "execution_count": null,
   "id": "60105085",
   "metadata": {},
   "outputs": [],
   "source": []
  }
 ],
 "metadata": {
  "kernelspec": {
   "display_name": "Python 3",
   "language": "python",
   "name": "python3"
  },
  "language_info": {
   "codemirror_mode": {
    "name": "ipython",
    "version": 3
   },
   "file_extension": ".py",
   "mimetype": "text/x-python",
   "name": "python",
   "nbconvert_exporter": "python",
   "pygments_lexer": "ipython3",
   "version": "3.9.4"
  }
 },
 "nbformat": 4,
 "nbformat_minor": 5
}
